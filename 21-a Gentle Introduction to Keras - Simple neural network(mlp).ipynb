{
 "cells": [
  {
   "cell_type": "markdown",
   "metadata": {
    "nbpresent": {
     "id": "588ee1fa-64b5-453b-ade7-8e6b2515821c"
    }
   },
   "source": [
    "# <div style=\"direction:rtl;text-align:right;font-family:B Lotus, B Nazanin, Tahoma\">مقدمه‌ای بر شبکه‌های عصبی و چارچوب Keras (کراس)</div>"
   ]
  },
  {
   "cell_type": "markdown",
   "metadata": {},
   "source": [
    "## <div style=\"direction:rtl;text-align:right;font-family:B Lotus, B Nazanin, Tahoma\">لود کتابخانه‌های مورد استفاده</div>\n",
    "<div style=\"direction:rtl;text-align:right;font-family:Tahoma\">\n",
    "\n",
    "برای اجرای این نوت‌بوک نیاز به نصب کتابخانه کراس (Keras) دارید. برای نصب این کتابخانه میتوانید لینک زیر را مطالعه کنید.\n",
    "</div>\n",
    "\n",
    "[http://blog.class.vision/1396/12/installing-keras-with-tensorflow-backend/](http://blog.class.vision/1396/12/installing-keras-with-tensorflow-backend/)\n",
    "\n",
    "<div style=\"direction:rtl;text-align:right;font-family:Tahoma\">\n",
    "در صورتی که تمام کتابخانه‌های مورد نیاز شما نصب باشد سلول زیر باید بدون مشکل اجرا شود.\n",
    "\n",
    "</div>"
   ]
  },
  {
   "cell_type": "code",
   "execution_count": 3,
   "metadata": {
    "nbpresent": {
     "id": "de829a92-1fb6-44ad-a2c6-fc1001e1f6e1"
    }
   },
   "outputs": [
    {
     "ename": "ImportError",
     "evalue": "Keras requires TensorFlow 2.2 or higher. Install TensorFlow via `pip install tensorflow`",
     "output_type": "error",
     "traceback": [
      "\u001b[1;31m---------------------------------------------------------------------------\u001b[0m",
      "\u001b[1;31mModuleNotFoundError\u001b[0m                       Traceback (most recent call last)",
      "\u001b[1;32m~\\Anaconda3\\lib\\site-packages\\keras\\__init__.py\u001b[0m in \u001b[0;36m<module>\u001b[1;34m\u001b[0m\n\u001b[0;32m      2\u001b[0m \u001b[1;32mtry\u001b[0m\u001b[1;33m:\u001b[0m\u001b[1;33m\u001b[0m\u001b[1;33m\u001b[0m\u001b[0m\n\u001b[1;32m----> 3\u001b[1;33m     \u001b[1;32mfrom\u001b[0m \u001b[0mtensorflow\u001b[0m\u001b[1;33m.\u001b[0m\u001b[0mkeras\u001b[0m\u001b[1;33m.\u001b[0m\u001b[0mlayers\u001b[0m\u001b[1;33m.\u001b[0m\u001b[0mexperimental\u001b[0m\u001b[1;33m.\u001b[0m\u001b[0mpreprocessing\u001b[0m \u001b[1;32mimport\u001b[0m \u001b[0mRandomRotation\u001b[0m\u001b[1;33m\u001b[0m\u001b[1;33m\u001b[0m\u001b[0m\n\u001b[0m\u001b[0;32m      4\u001b[0m \u001b[1;32mexcept\u001b[0m \u001b[0mImportError\u001b[0m\u001b[1;33m:\u001b[0m\u001b[1;33m\u001b[0m\u001b[1;33m\u001b[0m\u001b[0m\n",
      "\u001b[1;31mModuleNotFoundError\u001b[0m: No module named 'tensorflow'",
      "\nDuring handling of the above exception, another exception occurred:\n",
      "\u001b[1;31mImportError\u001b[0m                               Traceback (most recent call last)",
      "\u001b[1;32m<ipython-input-3-f7bb91bf2281>\u001b[0m in \u001b[0;36m<module>\u001b[1;34m\u001b[0m\n\u001b[1;32m----> 1\u001b[1;33m \u001b[1;32mimport\u001b[0m \u001b[0mkeras\u001b[0m\u001b[1;33m\u001b[0m\u001b[1;33m\u001b[0m\u001b[0m\n\u001b[0m\u001b[0;32m      2\u001b[0m \u001b[1;32mfrom\u001b[0m \u001b[0mkeras\u001b[0m\u001b[1;33m.\u001b[0m\u001b[0mmodels\u001b[0m \u001b[1;32mimport\u001b[0m \u001b[0mSequential\u001b[0m\u001b[1;33m\u001b[0m\u001b[1;33m\u001b[0m\u001b[0m\n\u001b[0;32m      3\u001b[0m \u001b[1;32mfrom\u001b[0m \u001b[0mkeras\u001b[0m\u001b[1;33m.\u001b[0m\u001b[0mlayers\u001b[0m \u001b[1;32mimport\u001b[0m \u001b[0mDense\u001b[0m\u001b[1;33m,\u001b[0m \u001b[0mDropout\u001b[0m\u001b[1;33m,\u001b[0m \u001b[0mActivation\u001b[0m\u001b[1;33m\u001b[0m\u001b[1;33m\u001b[0m\u001b[0m\n\u001b[0;32m      4\u001b[0m \u001b[1;32mimport\u001b[0m \u001b[0mnumpy\u001b[0m \u001b[1;32mas\u001b[0m \u001b[0mnp\u001b[0m\u001b[1;33m\u001b[0m\u001b[1;33m\u001b[0m\u001b[0m\n\u001b[0;32m      5\u001b[0m \u001b[1;32mimport\u001b[0m \u001b[0mcv2\u001b[0m\u001b[1;33m\u001b[0m\u001b[1;33m\u001b[0m\u001b[0m\n",
      "\u001b[1;32m~\\Anaconda3\\lib\\site-packages\\keras\\__init__.py\u001b[0m in \u001b[0;36m<module>\u001b[1;34m\u001b[0m\n\u001b[0;32m      4\u001b[0m \u001b[1;32mexcept\u001b[0m \u001b[0mImportError\u001b[0m\u001b[1;33m:\u001b[0m\u001b[1;33m\u001b[0m\u001b[1;33m\u001b[0m\u001b[0m\n\u001b[0;32m      5\u001b[0m     raise ImportError(\n\u001b[1;32m----> 6\u001b[1;33m         \u001b[1;34m'Keras requires TensorFlow 2.2 or higher. '\u001b[0m\u001b[1;33m\u001b[0m\u001b[1;33m\u001b[0m\u001b[0m\n\u001b[0m\u001b[0;32m      7\u001b[0m         'Install TensorFlow via `pip install tensorflow`')\n\u001b[0;32m      8\u001b[0m \u001b[1;33m\u001b[0m\u001b[0m\n",
      "\u001b[1;31mImportError\u001b[0m: Keras requires TensorFlow 2.2 or higher. Install TensorFlow via `pip install tensorflow`"
     ]
    }
   ],
   "source": [
    "import keras\n",
    "from keras.models import Sequential \n",
    "from keras.layers import Dense, Dropout, Activation\n",
    "import numpy as np\n",
    "import cv2\n",
    "\n",
    "from dataset import load_hoda"
   ]
  },
  {
   "cell_type": "markdown",
   "metadata": {},
   "source": [
    "<div style=\"direction:rtl;text-align:right;font-family:Tahoma\">\n",
    "برای اینکه موقع اجرای کدها دقیقا نتایج سر کلاس را بتوانید مشاهده کنید\n",
    ":\n",
    "</div>"
   ]
  },
  {
   "cell_type": "code",
   "execution_count": 3,
   "metadata": {},
   "outputs": [],
   "source": [
    "np.random.seed(123)  # for reproducibility"
   ]
  },
  {
   "cell_type": "markdown",
   "metadata": {},
   "source": [
    "## <div style=\"direction:rtl;text-align:right;font-family:B Lotus, B Nazanin, Tahoma\">لود مجموعه داده (dataset)</div>"
   ]
  },
  {
   "cell_type": "code",
   "execution_count": 6,
   "metadata": {},
   "outputs": [],
   "source": [
    "x_train_original, y_train_original, x_test_original, y_test_original = load_hoda()\n"
   ]
  },
  {
   "cell_type": "markdown",
   "metadata": {},
   "source": [
    "## <div style=\"direction:rtl;text-align:right;font-family:B Lotus, B Nazanin, Tahoma\"> پیش‌پردازش داده‌ها برای Keras</div>\n",
    "<div style=\"direction:rtl;text-align:right;font-family:Tahoma\">\n",
    "تبدیل\n",
    "x_train و x_test\n",
    "به فرمت آرایه‌های نامپای یا ndarray و تبدیل \n",
    "y_train و y_test\n",
    "به \n",
    "one-hot-encoding\n",
    ":\n",
    "</div>\n"
   ]
  },
  {
   "cell_type": "markdown",
   "metadata": {},
   "source": [
    "<div style=\"direction:rtl;text-align:right;font-family:Tahoma\">\n",
    "ابتدا تابعی ساده تعریف کردهایم که ابعاد، نوع داده ای و اطلاعات دیتاست لود شده را چاپ کند.\n",
    "<br>\n",
    "این اطلاعات را قبل و بعد از پیش‌پردازش داده ها چاپ خواهیم کرد تا متوجه تغییرات بشویم!\n",
    "</div>"
   ]
  },
  {
   "cell_type": "code",
   "execution_count": 7,
   "metadata": {},
   "outputs": [],
   "source": [
    "def print_data_info(x_train, y_train, x_test, y_test):\n",
    "    #Check data Type\n",
    "    print (\"\\ttype(x_train): {}\".format(type(x_train)))\n",
    "    print (\"\\ttype(y_train): {}\".format(type(y_train)))\n",
    "\n",
    "    #check data Shape\n",
    "    print (\"\\tx_train.shape: {}\".format(np.shape(x_train)))\n",
    "    print (\"\\ty_train.shape: {}\".format(np.shape(y_train)))\n",
    "    print (\"\\tx_test.shape: {}\".format(np.shape(x_test)))\n",
    "    print (\"\\ty_test.shape: {}\".format(np.shape(y_test)))\n",
    "\n",
    "    #sample data\n",
    "    print (\"\\ty_train[0]: {}\".format(y_train[0]))"
   ]
  },
  {
   "cell_type": "code",
   "execution_count": 8,
   "metadata": {},
   "outputs": [
    {
     "name": "stdout",
     "output_type": "stream",
     "text": [
      "[[0. 0. 0. ... 0. 0. 0.]\n",
      " [0. 0. 0. ... 0. 0. 0.]\n",
      " [1. 0. 0. ... 0. 0. 0.]\n",
      " ...\n",
      " [0. 0. 0. ... 0. 0. 0.]\n",
      " [0. 0. 0. ... 0. 0. 1.]\n",
      " [0. 1. 0. ... 0. 0. 0.]]\n"
     ]
    }
   ],
   "source": [
    "# Preprocess input data for Keras. \n",
    "x_train = np.array(x_train_original)\n",
    "y_train = keras.utils.to_categorical(y_train_original, num_classes=10)\n",
    "print(y_train)\n",
    "x_test  = np.array(x_test_original)\n",
    "y_test  = keras.utils.to_categorical(y_test_original, num_classes=10)"
   ]
  },
  {
   "cell_type": "code",
   "execution_count": 9,
   "metadata": {},
   "outputs": [
    {
     "name": "stdout",
     "output_type": "stream",
     "text": [
      "Before Preprocessing:\n",
      "\ttype(x_train): <class 'list'>\n",
      "\ttype(y_train): <class 'numpy.ndarray'>\n",
      "\tx_train.shape: (1000, 25)\n",
      "\ty_train.shape: (1000,)\n",
      "\tx_test.shape: (200, 25)\n",
      "\ty_test.shape: (200,)\n",
      "\ty_train[0]: 6\n",
      "After Preprocessing:\n",
      "\ttype(x_train): <class 'numpy.ndarray'>\n",
      "\ttype(y_train): <class 'numpy.ndarray'>\n",
      "\tx_train.shape: (1000, 25)\n",
      "\ty_train.shape: (1000, 10)\n",
      "\tx_test.shape: (200, 25)\n",
      "\ty_test.shape: (200, 10)\n",
      "\ty_train[0]: [0. 0. 0. 0. 0. 0. 1. 0. 0. 0.]\n"
     ]
    }
   ],
   "source": [
    "print(\"Before Preprocessing:\")\n",
    "print_data_info(x_train_original, y_train_original, x_test_original, y_test_original)\n",
    "print(\"After Preprocessing:\")\n",
    "print_data_info(x_train, y_train, x_test, y_test)"
   ]
  },
  {
   "cell_type": "markdown",
   "metadata": {},
   "source": [
    "<div style=\"direction:rtl;text-align:right;font-family:Tahoma\">\n",
    "آخرین گام پیش‌پردازش تبدیل داده‌ها به \n",
    "**float32**\n",
    "و نرمال سازی مقادیر به مقدار بین 0 و 1 است.\n",
    "</div>"
   ]
  },
  {
   "cell_type": "code",
   "execution_count": 10,
   "metadata": {},
   "outputs": [],
   "source": [
    "x_train = x_train.astype('float32')\n",
    "x_test = x_test.astype('float32')\n",
    "x_train /= 255\n",
    "x_test /= 255"
   ]
  },
  {
   "cell_type": "markdown",
   "metadata": {},
   "source": [
    "## <div style=\"direction:rtl;text-align:right;font-family:B Lotus, B Nazanin, Tahoma\">تعریف معماری مدل (model architecture)</div>"
   ]
  },
  {
   "cell_type": "code",
   "execution_count": 12,
   "metadata": {},
   "outputs": [
    {
     "name": "stdout",
     "output_type": "stream",
     "text": [
      "_________________________________________________________________\n",
      "Layer (type)                 Output Shape              Param #   \n",
      "=================================================================\n",
      "dense_3 (Dense)              (None, 64)                1664      \n",
      "_________________________________________________________________\n",
      "dense_4 (Dense)              (None, 10)                650       \n",
      "=================================================================\n",
      "Total params: 2,314\n",
      "Trainable params: 2,314\n",
      "Non-trainable params: 0\n",
      "_________________________________________________________________\n"
     ]
    }
   ],
   "source": [
    "model = Sequential()\n",
    "model.add(Dense(64, activation='relu', input_dim=25))\n",
    "model.add(Dense(10, activation='softmax'))\n",
    "model.summary()"
   ]
  },
  {
   "cell_type": "markdown",
   "metadata": {},
   "source": [
    "## <div style=\"direction:rtl;text-align:right;font-family:B Lotus, B Nazanin, Tahoma\">Compile model</div>\n"
   ]
  },
  {
   "cell_type": "code",
   "execution_count": 13,
   "metadata": {},
   "outputs": [
    {
     "name": "stdout",
     "output_type": "stream",
     "text": [
      "WARNING:tensorflow:From /usr/local/lib/python3.7/dist-packages/keras/optimizers.py:790: The name tf.train.Optimizer is deprecated. Please use tf.compat.v1.train.Optimizer instead.\n",
      "\n",
      "WARNING:tensorflow:From /usr/local/lib/python3.7/dist-packages/keras/backend/tensorflow_backend.py:3295: The name tf.log is deprecated. Please use tf.math.log instead.\n",
      "\n"
     ]
    }
   ],
   "source": [
    "model.compile(loss='categorical_crossentropy',\n",
    "              optimizer='rmsprop',\n",
    "              metrics=['accuracy'])"
   ]
  },
  {
   "cell_type": "markdown",
   "metadata": {},
   "source": [
    "## <div style=\"direction:rtl;text-align:right;font-family:B Lotus, B Nazanin, Tahoma\">آموش مدل با داده‌های آموزشی</div>\n"
   ]
  },
  {
   "cell_type": "code",
   "execution_count": 16,
   "metadata": {},
   "outputs": [
    {
     "name": "stdout",
     "output_type": "stream",
     "text": [
      "Train on 800 samples, validate on 200 samples\n",
      "Epoch 1/30\n",
      "800/800 [==============================] - 0s 88us/step - loss: 0.2985 - acc: 0.9200 - val_loss: 0.2811 - val_acc: 0.9250\n",
      "Epoch 2/30\n",
      "800/800 [==============================] - 0s 36us/step - loss: 0.2932 - acc: 0.9200 - val_loss: 0.2827 - val_acc: 0.9150\n",
      "Epoch 3/30\n",
      "800/800 [==============================] - 0s 36us/step - loss: 0.2857 - acc: 0.9237 - val_loss: 0.2865 - val_acc: 0.9300\n",
      "Epoch 4/30\n",
      "800/800 [==============================] - 0s 37us/step - loss: 0.2816 - acc: 0.9200 - val_loss: 0.2814 - val_acc: 0.9150\n",
      "Epoch 5/30\n",
      "800/800 [==============================] - 0s 30us/step - loss: 0.2758 - acc: 0.9213 - val_loss: 0.2811 - val_acc: 0.9250\n",
      "Epoch 6/30\n",
      "800/800 [==============================] - 0s 34us/step - loss: 0.2717 - acc: 0.9187 - val_loss: 0.2800 - val_acc: 0.9050\n",
      "Epoch 7/30\n",
      "800/800 [==============================] - 0s 73us/step - loss: 0.2654 - acc: 0.9225 - val_loss: 0.2823 - val_acc: 0.9000\n",
      "Epoch 8/30\n",
      "800/800 [==============================] - 0s 24us/step - loss: 0.2625 - acc: 0.9225 - val_loss: 0.2804 - val_acc: 0.9000\n",
      "Epoch 9/30\n",
      "800/800 [==============================] - 0s 59us/step - loss: 0.2580 - acc: 0.9263 - val_loss: 0.2814 - val_acc: 0.9150\n",
      "Epoch 10/30\n",
      "800/800 [==============================] - 0s 47us/step - loss: 0.2543 - acc: 0.9237 - val_loss: 0.2868 - val_acc: 0.9000\n",
      "Epoch 11/30\n",
      "800/800 [==============================] - 0s 75us/step - loss: 0.2498 - acc: 0.9263 - val_loss: 0.2811 - val_acc: 0.9100\n",
      "Epoch 12/30\n",
      "800/800 [==============================] - 0s 58us/step - loss: 0.2466 - acc: 0.9263 - val_loss: 0.2829 - val_acc: 0.9050\n",
      "Epoch 13/30\n",
      "800/800 [==============================] - 0s 44us/step - loss: 0.2437 - acc: 0.9275 - val_loss: 0.2825 - val_acc: 0.9050\n",
      "Epoch 14/30\n",
      "800/800 [==============================] - 0s 50us/step - loss: 0.2401 - acc: 0.9288 - val_loss: 0.2767 - val_acc: 0.9100\n",
      "Epoch 15/30\n",
      "800/800 [==============================] - 0s 50us/step - loss: 0.2351 - acc: 0.9325 - val_loss: 0.2820 - val_acc: 0.8950\n",
      "Epoch 16/30\n",
      "800/800 [==============================] - 0s 50us/step - loss: 0.2332 - acc: 0.9325 - val_loss: 0.2778 - val_acc: 0.9100\n",
      "Epoch 17/30\n",
      "800/800 [==============================] - 0s 64us/step - loss: 0.2301 - acc: 0.9325 - val_loss: 0.2765 - val_acc: 0.9100\n",
      "Epoch 18/30\n",
      "800/800 [==============================] - 0s 55us/step - loss: 0.2269 - acc: 0.9337 - val_loss: 0.2787 - val_acc: 0.9100\n",
      "Epoch 19/30\n",
      "800/800 [==============================] - 0s 71us/step - loss: 0.2248 - acc: 0.9300 - val_loss: 0.2789 - val_acc: 0.9100\n",
      "Epoch 20/30\n",
      "800/800 [==============================] - 0s 23us/step - loss: 0.2200 - acc: 0.9350 - val_loss: 0.2810 - val_acc: 0.9100\n",
      "Epoch 21/30\n",
      "800/800 [==============================] - 0s 52us/step - loss: 0.2182 - acc: 0.9337 - val_loss: 0.2778 - val_acc: 0.9050\n",
      "Epoch 22/30\n",
      "800/800 [==============================] - 0s 68us/step - loss: 0.2159 - acc: 0.9337 - val_loss: 0.2785 - val_acc: 0.9100\n",
      "Epoch 23/30\n",
      "800/800 [==============================] - 0s 53us/step - loss: 0.2123 - acc: 0.9375 - val_loss: 0.2794 - val_acc: 0.9050\n",
      "Epoch 24/30\n",
      "800/800 [==============================] - 0s 74us/step - loss: 0.2116 - acc: 0.9387 - val_loss: 0.2773 - val_acc: 0.9100\n",
      "Epoch 25/30\n",
      "800/800 [==============================] - 0s 69us/step - loss: 0.2075 - acc: 0.9363 - val_loss: 0.2736 - val_acc: 0.9050\n",
      "Epoch 26/30\n",
      "800/800 [==============================] - 0s 73us/step - loss: 0.2052 - acc: 0.9400 - val_loss: 0.2738 - val_acc: 0.9100\n",
      "Epoch 27/30\n",
      "800/800 [==============================] - 0s 58us/step - loss: 0.2034 - acc: 0.9387 - val_loss: 0.2759 - val_acc: 0.9150\n",
      "Epoch 28/30\n",
      "800/800 [==============================] - 0s 57us/step - loss: 0.2003 - acc: 0.9413 - val_loss: 0.2738 - val_acc: 0.9250\n",
      "Epoch 29/30\n",
      "800/800 [==============================] - 0s 64us/step - loss: 0.1993 - acc: 0.9400 - val_loss: 0.2746 - val_acc: 0.9100\n",
      "Epoch 30/30\n",
      "800/800 [==============================] - 0s 40us/step - loss: 0.1958 - acc: 0.9387 - val_loss: 0.2750 - val_acc: 0.9150\n"
     ]
    },
    {
     "data": {
      "text/plain": [
       "<keras.callbacks.History at 0x7fd617961a90>"
      ]
     },
     "execution_count": 16,
     "metadata": {},
     "output_type": "execute_result"
    }
   ],
   "source": [
    "model.fit(x_train, y_train,\n",
    "          epochs=30,\n",
    "          batch_size=64, validation_split=0.2)"
   ]
  },
  {
   "cell_type": "markdown",
   "metadata": {},
   "source": [
    "## <div style=\"direction:rtl;text-align:right;font-family:B Lotus, B Nazanin, Tahoma\">ارزیابی مدل روی داده های آزمون</div>"
   ]
  },
  {
   "cell_type": "code",
   "execution_count": 17,
   "metadata": {},
   "outputs": [
    {
     "name": "stdout",
     "output_type": "stream",
     "text": [
      "200/200 [==============================] - 0s 51us/step\n",
      "\n",
      "Testing loss: 0.26, acc: 0.91%\n"
     ]
    }
   ],
   "source": [
    "loss, acc = model.evaluate(x_test, y_test)\n",
    "print('\\nTesting loss: %.2f, acc: %.2f%%'%(loss, acc))"
   ]
  },
  {
   "cell_type": "markdown",
   "metadata": {},
   "source": [
    "## <div style=\"direction:rtl;text-align:right;font-family:B Lotus, B Nazanin, Tahoma\">پیش‌بینی داده‌های آموزشی</div>\n"
   ]
  },
  {
   "cell_type": "code",
   "execution_count": 31,
   "metadata": {},
   "outputs": [
    {
     "name": "stdout",
     "output_type": "stream",
     "text": [
      "predicted:\n",
      "[7 2 3 5 5 5 4 7 3 2 0 8 8 0 2 9 3 6 7 4 0 3 6 3 9 2 7 5 2 9 2 5 5 8 9 6 5\n",
      " 1 4 8 8 4 7 2 1 2 7 9 0 3 7 5 7 5 2 9 8 2 9 8 8 6 6 6 7 6 2 4 6 4 4 5 9 1\n",
      " 8 4 0 5 6 2 4 6 2 7 7 7 7 1 8 1 7 8 7 7 8 9 7 2 3 1 0 2 9 6 3 5 5 0 0 9 6\n",
      " 7 9 3 9 9 8 7 9 2 5 2 5 5 9 6 9 2 0 3 7 9 5 2 9 0 4 1 8 2 2 3 5 2 9 3 8 2\n",
      " 7 0 9 9 5 7 6 5 4 4 9 3 7 0 7 4 9 4 7 3 4 1 5 6 7 9 1 3 5 3 5 7 4 1 3 3 1\n",
      " 1 3 3 8 9 6 7 7 2 3 0 1 4 9 5]\n",
      "True Label:\n",
      "[7 2 3 1 5 5 4 7 3 2 0 8 8 0 2 9 3 6 7 4 0 3 6 3 9 2 7 5 2 9 7 5 5 8 9 6 5\n",
      " 1 4 8 8 4 7 7 1 2 7 9 0 3 7 4 7 5 2 9 8 2 9 8 8 6 6 6 6 6 2 4 3 4 4 5 9 1\n",
      " 8 2 0 5 6 2 4 3 2 7 7 7 7 1 8 1 7 8 7 7 8 9 3 2 3 1 0 2 9 6 3 5 5 0 0 3 6\n",
      " 7 9 3 9 9 8 7 9 2 5 2 5 5 9 6 9 2 0 3 7 6 5 2 9 0 4 1 8 2 2 3 0 2 9 3 8 6\n",
      " 7 0 9 9 0 7 6 5 4 7 9 3 7 0 7 1 9 4 7 3 4 1 5 6 7 9 1 3 5 4 5 7 4 1 3 3 1\n",
      " 2 3 3 8 9 6 7 7 2 3 0 1 4 9 5]\n"
     ]
    },
    {
     "data": {
      "text/plain": [
       "<matplotlib.image.AxesImage at 0x7fd5de7ab090>"
      ]
     },
     "execution_count": 31,
     "metadata": {},
     "output_type": "execute_result"
    },
    {
     "data": {
      "image/png": "[encoded data removed]",
      "text/plain": [
       "<Figure size 432x288 with 1 Axes>"
      ]
     },
     "metadata": {
      "needs_background": "light"
     },
     "output_type": "display_data"
    }
   ],
   "source": [
    "# The predict_classes function outputs the highest probability class\n",
    "# according to the trained classifier for each input example.\n",
    "predicted_classes = model.predict_classes(x_test)\n",
    "print(\"predicted:\")\n",
    "print(predicted_classes)\n",
    "print(\"True Label:\")\n",
    "print(y_test_original)\n",
    "import matplotlib.pyplot as plt\n",
    "plt.imshow(x_train_original[3].reshape(5,5))"
   ]
  },
  {
   "cell_type": "markdown",
   "metadata": {},
   "source": [
    "## <div style=\"direction:rtl;text-align:right;font-family:B Lotus, B Nazanin, Tahoma\">کد کامل، از ابتدا تا انتها</div>\n",
    "\n"
   ]
  },
  {
   "cell_type": "code",
   "execution_count": 13,
   "metadata": {},
   "outputs": [
    {
     "name": "stdout",
     "output_type": "stream",
     "text": [
      "Epoch 1/30\n",
      "1000/1000 [==============================] - 0s 148us/step - loss: 2.0820 - acc: 0.2990\n",
      "Epoch 2/30\n",
      "1000/1000 [==============================] - 0s 28us/step - loss: 1.8258 - acc: 0.5030\n",
      "Epoch 3/30\n",
      "1000/1000 [==============================] - 0s 31us/step - loss: 1.6154 - acc: 0.6720\n",
      "Epoch 4/30\n",
      "1000/1000 [==============================] - 0s 28us/step - loss: 1.4207 - acc: 0.7540\n",
      "Epoch 5/30\n",
      "1000/1000 [==============================] - 0s 31us/step - loss: 1.2467 - acc: 0.7940\n",
      "Epoch 6/30\n",
      "1000/1000 [==============================] - 0s 42us/step - loss: 1.0966 - acc: 0.8070\n",
      "Epoch 7/30\n",
      "1000/1000 [==============================] - 0s 36us/step - loss: 0.9711 - acc: 0.8120\n",
      "Epoch 8/30\n",
      "1000/1000 [==============================] - 0s 38us/step - loss: 0.8647 - acc: 0.8330\n",
      "Epoch 9/30\n",
      "1000/1000 [==============================] - 0s 37us/step - loss: 0.7746 - acc: 0.8440\n",
      "Epoch 10/30\n",
      "1000/1000 [==============================] - 0s 35us/step - loss: 0.6997 - acc: 0.8490\n",
      "Epoch 11/30\n",
      "1000/1000 [==============================] - 0s 39us/step - loss: 0.6390 - acc: 0.8560\n",
      "Epoch 12/30\n",
      "1000/1000 [==============================] - 0s 31us/step - loss: 0.5892 - acc: 0.8710\n",
      "Epoch 13/30\n",
      "1000/1000 [==============================] - 0s 31us/step - loss: 0.5474 - acc: 0.8760\n",
      "Epoch 14/30\n",
      "1000/1000 [==============================] - 0s 28us/step - loss: 0.5130 - acc: 0.8770\n",
      "Epoch 15/30\n",
      "1000/1000 [==============================] - 0s 35us/step - loss: 0.4820 - acc: 0.8850\n",
      "Epoch 16/30\n",
      "1000/1000 [==============================] - 0s 31us/step - loss: 0.4581 - acc: 0.8930\n",
      "Epoch 17/30\n",
      "1000/1000 [==============================] - 0s 29us/step - loss: 0.4352 - acc: 0.8910\n",
      "Epoch 18/30\n",
      "1000/1000 [==============================] - 0s 30us/step - loss: 0.4160 - acc: 0.8940\n",
      "Epoch 19/30\n",
      "1000/1000 [==============================] - 0s 36us/step - loss: 0.3995 - acc: 0.8960\n",
      "Epoch 20/30\n",
      "1000/1000 [==============================] - 0s 31us/step - loss: 0.3848 - acc: 0.8960\n",
      "Epoch 21/30\n",
      "1000/1000 [==============================] - 0s 29us/step - loss: 0.3707 - acc: 0.8970\n",
      "Epoch 22/30\n",
      "1000/1000 [==============================] - 0s 34us/step - loss: 0.3595 - acc: 0.9050\n",
      "Epoch 23/30\n",
      "1000/1000 [==============================] - 0s 32us/step - loss: 0.3481 - acc: 0.9040\n",
      "Epoch 24/30\n",
      "1000/1000 [==============================] - 0s 31us/step - loss: 0.3387 - acc: 0.9060\n",
      "Epoch 25/30\n",
      "1000/1000 [==============================] - 0s 28us/step - loss: 0.3302 - acc: 0.9120\n",
      "Epoch 26/30\n",
      "1000/1000 [==============================] - 0s 28us/step - loss: 0.3220 - acc: 0.9110\n",
      "Epoch 27/30\n",
      "1000/1000 [==============================] - 0s 29us/step - loss: 0.3141 - acc: 0.9110\n",
      "Epoch 28/30\n",
      "1000/1000 [==============================] - 0s 34us/step - loss: 0.3073 - acc: 0.9100\n",
      "Epoch 29/30\n",
      "1000/1000 [==============================] - 0s 37us/step - loss: 0.3009 - acc: 0.9080\n",
      "Epoch 30/30\n",
      "1000/1000 [==============================] - 0s 33us/step - loss: 0.2920 - acc: 0.9130\n",
      "200/200 [==============================] - 0s 188us/step\n",
      "\n",
      "Testing loss: 0.33, acc: 0.91%\n"
     ]
    }
   ],
   "source": [
    "# 1. Import libraries and modules\n",
    "import keras\n",
    "from keras.models import Sequential\n",
    "from keras.layers import Dense, Dropout, Activation\n",
    "import numpy as np\n",
    "from dataset import load_hoda\n",
    "\n",
    "np.random.seed(123)  # for reproducibility\n",
    "\n",
    "# 2. Load pre-shuffled HODA data into train and test sets\n",
    "x_train_original, y_train_original, x_test_original, y_test_original = load_hoda()\n",
    "\n",
    "# 3. Preprocess input data\n",
    "''' 3.1: input data in numpy array format'''\n",
    "x_train = np.array(x_train_original)\n",
    "x_test = np.array(x_test_original)\n",
    "'''3.2 normalize our data values to the range [0, 1]'''\n",
    "x_train = x_train.astype('float32')\n",
    "x_test = x_test.astype('float32')\n",
    "x_train /= 255\n",
    "x_test /= 255\n",
    "\n",
    "# 4. Preprocess class labels\n",
    "y_train = keras.utils.to_categorical(y_train_original, num_classes=10)\n",
    "y_test = keras.utils.to_categorical(y_test_original, num_classes=10)\n",
    "\n",
    "# 5. Define model architecture\n",
    "model = Sequential()\n",
    "model.add(Dense(64, activation='relu', input_dim=25))\n",
    "model.add(Dense(10, activation='softmax'))\n",
    "\n",
    "# 6. Compile model\n",
    "model.compile(loss='categorical_crossentropy',\n",
    "              optimizer='rmsprop',\n",
    "              metrics=['accuracy'])\n",
    "\n",
    "# 7. Fit model on training data\n",
    "model.fit(x_train, y_train,\n",
    "          epochs=30,\n",
    "          batch_size=64)\n",
    "\n",
    "# 8. Evaluate model on test data\n",
    "loss, acc = model.evaluate(x_test, y_test)\n",
    "print('\\nTesting loss: %.2f, acc: %.2f%%'%(loss, acc))"
   ]
  },
  {
   "cell_type": "markdown",
   "metadata": {},
   "source": [
    "<div class=\"alert alert-block alert-info\">\n",
    "<div style=\"direction:rtl;text-align:right;font-family:B Lotus, B Nazanin, Tahoma\"> دانشگاه تربیت دبیر شهید رجایی<br>مباحث ویژه - آشنایی با بینایی کامپیوتر<br>علیرضا اخوان پور<br>96-97<br>\n",
    "</div>\n",
    "<a href=\"https://www.srttu.edu/\">SRTTU.edu</a> - <a href=\"http://class.vision\">Class.Vision</a> - <a href=\"http://AkhavanPour.ir\">AkhavanPour.ir</a>\n",
    "</div>"
   ]
  }
 ],
 "metadata": {
  "anaconda-cloud": {},
  "kernelspec": {
   "display_name": "Python 3",
   "language": "python",
   "name": "python3"
  },
  "language_info": {
   "codemirror_mode": {
    "name": "ipython",
    "version": 3
   },
   "file_extension": ".py",
   "mimetype": "text/x-python",
   "name": "python",
   "nbconvert_exporter": "python",
   "pygments_lexer": "ipython3",
   "version": "3.7.4"
  },
  "nbpresent": {
   "slides": {
    "300ee14f-a043-486e-b274-7ff253907cd7": {
     "id": "300ee14f-a043-486e-b274-7ff253907cd7",
     "prev": "cb74e0bc-4513-4d13-b7f1-14c3078a7927",
     "regions": {
      "26dc3f39-a230-447c-af4c-f5e5b2fb7835": {
       "attrs": {
        "height": 0.8,
        "width": 0.8,
        "x": 0.1,
        "y": 0.1
       },
       "content": {
        "cell": "c58440a5-3f8f-4f37-9c79-6bf766209406",
        "part": "whole"
       },
       "id": "26dc3f39-a230-447c-af4c-f5e5b2fb7835"
      }
     }
    },
    "878aa53a-1444-4100-8f50-7a408191c579": {
     "id": "878aa53a-1444-4100-8f50-7a408191c579",
     "prev": null,
     "regions": {
      "a6c6843a-5ea6-4fbc-b890-3b4b8ae475b3": {
       "attrs": {
        "height": 0.8,
        "width": 0.8,
        "x": 0.1,
        "y": 0.1
       },
       "content": {
        "cell": "588ee1fa-64b5-453b-ade7-8e6b2515821c",
        "part": "whole"
       },
       "id": "a6c6843a-5ea6-4fbc-b890-3b4b8ae475b3"
      }
     }
    },
    "96ffe88e-7b50-43de-afdd-942e564f4e3e": {
     "id": "96ffe88e-7b50-43de-afdd-942e564f4e3e",
     "prev": "878aa53a-1444-4100-8f50-7a408191c579",
     "regions": {
      "b7e52e12-489a-468d-b10c-af2024fd2856": {
       "attrs": {
        "height": 0.8,
        "width": 0.8,
        "x": 0.1,
        "y": 0.1
       },
       "content": {
        "cell": "de829a92-1fb6-44ad-a2c6-fc1001e1f6e1",
        "part": "whole"
       },
       "id": "b7e52e12-489a-468d-b10c-af2024fd2856"
      }
     }
    },
    "cb74e0bc-4513-4d13-b7f1-14c3078a7927": {
     "id": "cb74e0bc-4513-4d13-b7f1-14c3078a7927",
     "prev": "96ffe88e-7b50-43de-afdd-942e564f4e3e",
     "regions": {
      "444878ee-68f3-4abb-acff-a7079b21e86d": {
       "attrs": {
        "height": 0.8,
        "width": 0.8,
        "x": 0.1,
        "y": 0.1
       },
       "content": {
        "cell": "25f3f538-1ee8-4d98-a6bb-14cbeb7a702d",
        "part": "whole"
       },
       "id": "444878ee-68f3-4abb-acff-a7079b21e86d"
      }
     }
    }
   },
   "themes": {}
  }
 },
 "nbformat": 4,
 "nbformat_minor": 4
}
