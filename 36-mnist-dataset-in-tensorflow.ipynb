{
 "cells": [
  {
   "cell_type": "markdown",
   "metadata": {},
   "source": [
    "<img src=\"http://akhavanpour.ir/notebook/images/srttu.gif\" alt=\"SRTTU\" style=\"width: 150px;\"/>\n",
    "\n",
    "[![Azure Notebooks](https://notebooks.azure.com/launch.png)](https://notebooks.azure.com/import/gh/Alireza-Akhavan/class.vision)"
   ]
  },
  {
   "cell_type": "markdown",
   "metadata": {},
   "source": [
    "<div style=\"text-align: right;direction:rtl;font-family:tahoma\">\n",
    "# دیتاست mnist\n"
   ]
  },
  {
   "cell_type": "markdown",
   "metadata": {},
   "source": [
    "<div style=\"text-align: right;direction:rtl;font-family:tahoma\">\n",
    "بر اساس توضیحات یان لیکان؛ این مجموعه داده ی ارقام دست نویس متشکل از 60.000 نمونه آموزشی و 10.000 نمونه آزمایشی یا test است.\n",
    "<br>\n",
    " این تصاویر قبلا پیش پردازش شده اند\n",
    " <br>\n",
    "</div>\n",
    "<p>\n",
    "\n",
    "\"database of handwritten digits that has a training set of 60,000 examples, and a test set of 10,000 examples. It is a subset of a larger set available from NIST. The digits have been size-normalized and centered in a fixed-size image\" (<a href=\"http://yann.lecun.com/exdb/mnist/\">yann.lecun.com/exdb/mnist/</a>).\n",
    "</p>"
   ]
  },
  {
   "cell_type": "code",
   "execution_count": 1,
   "metadata": {},
   "outputs": [
    {
     "name": "stdout",
     "output_type": "stream",
     "text": [
      "WARNING:tensorflow:From <ipython-input-1-87ec0d23529d>:3: read_data_sets (from tensorflow.contrib.learn.python.learn.datasets.mnist) is deprecated and will be removed in a future version.\n",
      "Instructions for updating:\n",
      "Please use alternatives such as official/mnist/dataset.py from tensorflow/models.\n",
      "WARNING:tensorflow:From C:\\Users\\A s u s\\Anaconda3\\envs\\keras\\lib\\site-packages\\tensorflow\\contrib\\learn\\python\\learn\\datasets\\mnist.py:260: maybe_download (from tensorflow.contrib.learn.python.learn.datasets.base) is deprecated and will be removed in a future version.\n",
      "Instructions for updating:\n",
      "Please write your own downloading logic.\n",
      "WARNING:tensorflow:From C:\\Users\\A s u s\\Anaconda3\\envs\\keras\\lib\\site-packages\\tensorflow\\contrib\\learn\\python\\learn\\datasets\\mnist.py:262: extract_images (from tensorflow.contrib.learn.python.learn.datasets.mnist) is deprecated and will be removed in a future version.\n",
      "Instructions for updating:\n",
      "Please use tf.data to implement this functionality.\n",
      "Extracting MNIST_data/train-images-idx3-ubyte.gz\n",
      "WARNING:tensorflow:From C:\\Users\\A s u s\\Anaconda3\\envs\\keras\\lib\\site-packages\\tensorflow\\contrib\\learn\\python\\learn\\datasets\\mnist.py:267: extract_labels (from tensorflow.contrib.learn.python.learn.datasets.mnist) is deprecated and will be removed in a future version.\n",
      "Instructions for updating:\n",
      "Please use tf.data to implement this functionality.\n",
      "Extracting MNIST_data/train-labels-idx1-ubyte.gz\n",
      "WARNING:tensorflow:From C:\\Users\\A s u s\\Anaconda3\\envs\\keras\\lib\\site-packages\\tensorflow\\contrib\\learn\\python\\learn\\datasets\\mnist.py:110: dense_to_one_hot (from tensorflow.contrib.learn.python.learn.datasets.mnist) is deprecated and will be removed in a future version.\n",
      "Instructions for updating:\n",
      "Please use tf.one_hot on tensors.\n",
      "Extracting MNIST_data/t10k-images-idx3-ubyte.gz\n",
      "Extracting MNIST_data/t10k-labels-idx1-ubyte.gz\n",
      "WARNING:tensorflow:From C:\\Users\\A s u s\\Anaconda3\\envs\\keras\\lib\\site-packages\\tensorflow\\contrib\\learn\\python\\learn\\datasets\\mnist.py:290: DataSet.__init__ (from tensorflow.contrib.learn.python.learn.datasets.mnist) is deprecated and will be removed in a future version.\n",
      "Instructions for updating:\n",
      "Please use alternatives such as official/mnist/dataset.py from tensorflow/models.\n"
     ]
    }
   ],
   "source": [
    "import tensorflow as tf\n",
    "from tensorflow.examples.tutorials.mnist import input_data\n",
    "mnist = input_data.read_data_sets('MNIST_data/', one_hot=True)"
   ]
  },
  {
   "cell_type": "markdown",
   "metadata": {},
   "source": [
    "<div style=\"text-align: right;direction:rtl;font-family:tahoma\">\n",
    "آرگومان ورودی  <span style=\"background-color:#dcdcdc\n",
    "\"> One-hot = True</span> \n",
    "بیانگر این است که این آرایه, یک آرایه ی تماما 0 باشد؛ و تنها عنصری که در اندیسی که نمایانگر آن عدد است 1 باشد. برای مثال:"
   ]
  },
  {
   "cell_type": "markdown",
   "metadata": {},
   "source": [
    "<pre>\n",
    "Number representation:    0\n",
    "One-hot encoding:        [0]   [1]    [2]    [3]    [4]   [5]  \n",
    "Array/vector:             1     0      0      0      0     0   \n",
    "\n",
    "Number representation:    5\n",
    "One-hot encoding:        [0]   [1]    [2]    [3]    [4]    [5]  \n",
    "Array/vector:             0     0      0      0      0      1   \n",
    "</pre>"
   ]
  },
  {
   "cell_type": "markdown",
   "metadata": {},
   "source": [
    "<div style=\"text-align: right;direction:rtl;font-family:tahoma\">\n",
    "# آشنایی با داده های وارد شده\n"
   ]
  },
  {
   "cell_type": "markdown",
   "metadata": {},
   "source": [
    "<div style=\"text-align: right;direction:rtl;font-family:tahoma\">\n",
    "داده های import شده به سه بخش زیر تقسیم میشوند:<p></p>\n",
    "\n",
    "<ul>\n",
    "    <li>\n",
    "        داده های Train یا آموزشی\n",
    "        <span style=\"background-color:#dcdcdc\">(mnist.train)</span>\n",
    "        <ul>\n",
    "                <li>شامل 55,000 تا داده</li>\n",
    "                <li>mnist.train.images برای inputs یا ورودی</li>\n",
    "                <li>mnist.train.labels برای outputs یا خروجی</li>\n",
    "        </ul>\n",
    "    </li>\n",
    "    <li>\n",
    "        داده های Validation یا اعتبار سنجی\n",
    "        <span style=\"background-color:#dcdcdc\">(mnist.validation)</span>\n",
    "        <ul>\n",
    "                <li>شامل 5,000 تا داده</li>\n",
    "                <li>mnist.validation.images برای inputs یا ورودی</li>\n",
    "                <li>mnist.validation.labels برای outputs یا خروجی</li>\n",
    "        </ul>    \n",
    "    </li>\n",
    "    <li>\n",
    "        داده های Test یا آزمایشی\n",
    "        <span style=\"background-color:#dcdcdc\">(mnist.test)</span>\n",
    "        <ul>\n",
    "                <li>شامل 10,000 تا داده</li>\n",
    "                <li>mnist.test.images برای inputs یا ورودی</li>\n",
    "                <li>mnist.test.labels برای outputs یا خروجی</li>\n",
    "        </ul>    \n",
    "    </li>\n",
    "</ul>\n",
    "</div>"
   ]
  },
  {
   "cell_type": "markdown",
   "metadata": {},
   "source": [
    "<div class=\"alert alert-block alert-info\">\n",
    "<div style=\"direction:rtl;text-align:right;font-family:B Lotus, B Nazanin, Tahoma\"> دانشگاه تربیت دبیر شهید رجایی<br>مباحث ویژه 2 - یادگیری عمیق پیشرفته<br>علیرضا اخوان پور<br>97-98<br>\n",
    "</div>\n",
    "<a href=\"https://www.srttu.edu/\">SRTTU.edu</a> - <a href=\"http://class.vision\">Class.Vision</a> - <a href=\"http://AkhavanPour.ir\">AkhavanPour.ir</a>\n",
    "</div>"
   ]
  },
  {
   "cell_type": "code",
   "execution_count": null,
   "metadata": {
    "collapsed": true
   },
   "outputs": [],
   "source": []
  }
 ],
 "metadata": {
  "kernelspec": {
   "display_name": "Python 3",
   "language": "python",
   "name": "python3"
  },
  "language_info": {
   "codemirror_mode": {
    "name": "ipython",
    "version": 3
   },
   "file_extension": ".py",
   "mimetype": "text/x-python",
   "name": "python",
   "nbconvert_exporter": "python",
   "pygments_lexer": "ipython3",
   "version": "3.6.6"
  }
 },
 "nbformat": 4,
 "nbformat_minor": 2
}
