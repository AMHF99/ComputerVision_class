{
 "cells": [
  {
   "cell_type": "markdown",
   "metadata": {},
   "source": [
    "<img src=\"http://akhavanpour.ir/notebook/images/srttu.gif\" alt=\"SRTTU\" style=\"width: 150px;\"/>\n",
    "\n",
    "[![Azure Notebooks](https://notebooks.azure.com/launch.png)](https://notebooks.azure.com/import/gh/Alireza-Akhavan/class.vision)"
   ]
  },
  {
   "cell_type": "code",
   "execution_count": 1,
   "metadata": {},
   "outputs": [
    {
     "name": "stderr",
     "output_type": "stream",
     "text": [
      "Using TensorFlow backend.\n"
     ]
    }
   ],
   "source": [
    "# import the necessary packages\n",
    "from keras.models import Sequential\n",
    "from keras.layers.normalization import BatchNormalization\n",
    "from keras.layers.convolutional import Conv2D\n",
    "from keras.layers.convolutional import MaxPooling2D\n",
    "from keras.layers.core import Activation\n",
    "from keras.layers.core import Flatten\n",
    "from keras.layers.core import Dropout\n",
    "from keras.layers.core import Dense\n"
   ]
  },
  {
   "cell_type": "code",
   "execution_count": 2,
   "metadata": {},
   "outputs": [
    {
     "name": "stdout",
     "output_type": "stream",
     "text": [
      "[INFO] loading images...\n",
      "[INFO] data matrix: 1369 images (295.70MB)\n"
     ]
    },
    {
     "data": {
      "text/plain": [
       "array([['blue', 'shirt'],\n",
       "       ['blue', 'jeans'],\n",
       "       ['blue', 'shirt'],\n",
       "       ..., \n",
       "       ['black', 'jeans'],\n",
       "       ['black', 'jeans'],\n",
       "       ['red', 'shirt']],\n",
       "      dtype='<U5')"
      ]
     },
     "execution_count": 2,
     "metadata": {},
     "output_type": "execute_result"
    }
   ],
   "source": [
    "# set the matplotlib backend so figures can be saved in the background\n",
    "import matplotlib\n",
    "matplotlib.use(\"Agg\")\n",
    "\n",
    "# import the necessary packages\n",
    "from keras.preprocessing.image import ImageDataGenerator\n",
    "from keras.optimizers import Adam\n",
    "from keras.preprocessing.image import img_to_array\n",
    "from sklearn.preprocessing import MultiLabelBinarizer\n",
    "from sklearn.model_selection import train_test_split\n",
    "import matplotlib.pyplot as plt\n",
    "from imutils import paths\n",
    "import numpy as np\n",
    "import random\n",
    "import pickle\n",
    "import cv2\n",
    "import os\n",
    "\n",
    "dataset = 'E:/dataset/multi-label/dataset'\n",
    "\n",
    "# initialize the number of epochs to train for, initial learning rate,\n",
    "# batch size, and image dimensions\n",
    "EPOCHS = 50\n",
    "INIT_LR = 1e-3\n",
    "BS = 32\n",
    "\n",
    "# grab the image paths and randomly shuffle them\n",
    "print(\"[INFO] loading images...\")\n",
    "imagePaths = sorted(list(paths.list_images(dataset)))\n",
    "random.seed(42)\n",
    "random.shuffle(imagePaths)\n",
    "\n",
    "# initialize the data and labels\n",
    "data = []\n",
    "labels = []\n",
    "\n",
    "# loop over the input images\n",
    "for imagePath in imagePaths:\n",
    "\t# load the image, pre-process it, and store it in the data list\n",
    "\timage = cv2.imread(imagePath)\n",
    "\timage = cv2.resize(image, (96, 96))\n",
    "\timage = img_to_array(image)\n",
    "\tdata.append(image)\n",
    "\n",
    "\t# extract set of class labels from the image path and update the\n",
    "\t# labels list\n",
    "\tl = label = imagePath.split(os.path.sep)[-2].split(\"_\")\n",
    "\tlabels.append(l)\n",
    "\n",
    "# scale the raw pixel intensities to the range [0, 1]\n",
    "data = np.array(data, dtype=\"float\") / 255.0\n",
    "labels = np.array(labels)\n",
    "print(\"[INFO] data matrix: {} images ({:.2f}MB)\".format(\n",
    "\tlen(imagePaths), data.nbytes / (1024 * 1000.0)))\n",
    "labels"
   ]
  },
  {
   "cell_type": "code",
   "execution_count": 3,
   "metadata": {},
   "outputs": [
    {
     "data": {
      "text/plain": [
       "array([['blue', 'shirt'],\n",
       "       ['blue', 'jeans'],\n",
       "       ['blue', 'shirt'],\n",
       "       ..., \n",
       "       ['black', 'jeans'],\n",
       "       ['black', 'jeans'],\n",
       "       ['red', 'shirt']],\n",
       "      dtype='<U5')"
      ]
     },
     "execution_count": 3,
     "metadata": {},
     "output_type": "execute_result"
    }
   ],
   "source": [
    "labels"
   ]
  },
  {
   "cell_type": "code",
   "execution_count": 4,
   "metadata": {},
   "outputs": [
    {
     "name": "stdout",
     "output_type": "stream",
     "text": [
      "[INFO] class labels:\n",
      "1. black\n",
      "2. blue\n",
      "3. jeans\n",
      "4. red\n",
      "5. shirt\n"
     ]
    }
   ],
   "source": [
    "# binarize the labels using scikit-learn's special multi-label\n",
    "# binarizer implementation\n",
    "print(\"[INFO] class labels:\")\n",
    "mlb = MultiLabelBinarizer()\n",
    "labels = mlb.fit_transform(labels)\n",
    "\n",
    "# loop over each of the possible class labels and show them\n",
    "for (i, label) in enumerate(mlb.classes_):\n",
    "\tprint(\"{}. {}\".format(i + 1, label))\n"
   ]
  },
  {
   "cell_type": "code",
   "execution_count": 5,
   "metadata": {},
   "outputs": [
    {
     "data": {
      "text/plain": [
       "array([[0, 1, 0, 0, 1],\n",
       "       [0, 1, 1, 0, 0],\n",
       "       [0, 1, 0, 0, 1],\n",
       "       ..., \n",
       "       [1, 0, 1, 0, 0],\n",
       "       [1, 0, 1, 0, 0],\n",
       "       [0, 0, 0, 1, 1]])"
      ]
     },
     "execution_count": 5,
     "metadata": {},
     "output_type": "execute_result"
    }
   ],
   "source": [
    "labels"
   ]
  },
  {
   "cell_type": "code",
   "execution_count": 6,
   "metadata": {},
   "outputs": [
    {
     "data": {
      "text/plain": [
       "array(['black', 'blue', 'jeans', 'red', 'shirt'], dtype=object)"
      ]
     },
     "execution_count": 6,
     "metadata": {},
     "output_type": "execute_result"
    }
   ],
   "source": [
    "mlb.classes_"
   ]
  },
  {
   "cell_type": "code",
   "execution_count": 7,
   "metadata": {
    "collapsed": true,
    "jupyter": {
     "outputs_hidden": true
    }
   },
   "outputs": [],
   "source": [
    "# partition the data into training and testing splits using 80% of\n",
    "# the data for training and the remaining 20% for testing\n",
    "(trainX, testX, trainY, testY) = train_test_split(data,\n",
    "\tlabels, test_size=0.2, random_state=42)"
   ]
  },
  {
   "cell_type": "code",
   "execution_count": 8,
   "metadata": {
    "collapsed": true,
    "jupyter": {
     "outputs_hidden": true
    }
   },
   "outputs": [],
   "source": [
    "# construct the image generator for data augmentation\n",
    "aug = ImageDataGenerator(rotation_range=25, width_shift_range=0.1,\n",
    "\theight_shift_range=0.1, shear_range=0.2, zoom_range=0.2,\n",
    "\thorizontal_flip=True, fill_mode=\"nearest\")"
   ]
  },
  {
   "cell_type": "code",
   "execution_count": 9,
   "metadata": {},
   "outputs": [
    {
     "data": {
      "text/plain": [
       "5"
      ]
     },
     "execution_count": 9,
     "metadata": {},
     "output_type": "execute_result"
    }
   ],
   "source": [
    "classes = len(mlb.classes_)\n",
    "classes"
   ]
  },
  {
   "cell_type": "code",
   "execution_count": 10,
   "metadata": {},
   "outputs": [],
   "source": [
    "# initialize the model along with the input shape to be\n",
    "# \"channels last\" and the channels dimension itself\n",
    "model = Sequential()\n",
    "# CONV => RELU => POOL\n",
    "model.add(Conv2D(32, (3, 3), padding=\"same\", input_shape=(96,96,3)))\n",
    "model.add(Activation(\"relu\"))\n",
    "model.add(BatchNormalization())\n",
    "model.add(MaxPooling2D(pool_size=(3, 3)))\n",
    "model.add(Dropout(0.25))\n",
    "\n",
    "# (CONV => RELU) * 2 => POOL\n",
    "model.add(Conv2D(64, (3, 3), padding=\"same\"))\n",
    "model.add(Activation(\"relu\"))\n",
    "model.add(BatchNormalization())\n",
    "model.add(Conv2D(64, (3, 3), padding=\"same\"))\n",
    "model.add(Activation(\"relu\"))\n",
    "model.add(BatchNormalization())\n",
    "model.add(MaxPooling2D(pool_size=(2, 2)))\n",
    "model.add(Dropout(0.25))\n",
    "\n",
    "# (CONV => RELU) * 2 => POOL\n",
    "model.add(Conv2D(128, (3, 3), padding=\"same\"))\n",
    "model.add(Activation(\"relu\"))\n",
    "model.add(BatchNormalization())\n",
    "model.add(Conv2D(128, (3, 3), padding=\"same\"))\n",
    "model.add(Activation(\"relu\"))\n",
    "model.add(BatchNormalization())\n",
    "model.add(MaxPooling2D(pool_size=(2, 2)))\n",
    "model.add(Dropout(0.25))\n",
    "\n",
    "# first (and only) set of FC => RELU layers\n",
    "model.add(Flatten())\n",
    "model.add(Dense(1024))\n",
    "model.add(Activation(\"relu\"))\n",
    "model.add(BatchNormalization())\n",
    "model.add(Dropout(0.5))\n",
    "\n",
    "# softmax classifier\n",
    "model.add(Dense(classes))\n",
    "model.add(Activation(\"sigmoid\"))\n"
   ]
  },
  {
   "cell_type": "code",
   "execution_count": 11,
   "metadata": {
    "collapsed": true,
    "jupyter": {
     "outputs_hidden": true
    }
   },
   "outputs": [],
   "source": [
    "opt = Adam(lr=INIT_LR, decay=INIT_LR / EPOCHS)"
   ]
  },
  {
   "cell_type": "code",
   "execution_count": 12,
   "metadata": {},
   "outputs": [
    {
     "name": "stdout",
     "output_type": "stream",
     "text": [
      "[INFO] training network...\n",
      "WARNING:tensorflow:Variable *= will be deprecated. Use variable.assign_mul if you want assignment to the variable value or 'x = x * y' if you want a new python Tensor object.\n",
      "Epoch 1/50\n",
      "34/34 [==============================] - 105s 3s/step - loss: 0.2917 - acc: 0.8823 - val_loss: 0.4729 - val_acc: 0.8993\n",
      "Epoch 2/50\n",
      "34/34 [==============================] - 106s 3s/step - loss: 0.1454 - acc: 0.9484 - val_loss: 0.3940 - val_acc: 0.9197\n",
      "Epoch 3/50\n",
      "34/34 [==============================] - 110s 3s/step - loss: 0.1120 - acc: 0.9603 - val_loss: 0.3777 - val_acc: 0.9263\n",
      "Epoch 4/50\n",
      "34/34 [==============================] - 123s 4s/step - loss: 0.0851 - acc: 0.9711 - val_loss: 0.3353 - val_acc: 0.9255\n",
      "Epoch 5/50\n",
      "34/34 [==============================] - 112s 3s/step - loss: 0.0658 - acc: 0.9768 - val_loss: 0.1084 - val_acc: 0.9701\n",
      "Epoch 6/50\n",
      "34/34 [==============================] - 109s 3s/step - loss: 0.0852 - acc: 0.9711 - val_loss: 0.1977 - val_acc: 0.9445\n",
      "Epoch 7/50\n",
      "34/34 [==============================] - 107s 3s/step - loss: 0.1331 - acc: 0.9583 - val_loss: 0.2088 - val_acc: 0.9445\n",
      "Epoch 8/50\n",
      "34/34 [==============================] - 108s 3s/step - loss: 0.0909 - acc: 0.9665 - val_loss: 0.3645 - val_acc: 0.9307\n",
      "Epoch 9/50\n",
      "34/34 [==============================] - 119s 4s/step - loss: 0.0815 - acc: 0.9713 - val_loss: 0.0943 - val_acc: 0.9774\n",
      "Epoch 10/50\n",
      "34/34 [==============================] - 109s 3s/step - loss: 0.0718 - acc: 0.9771 - val_loss: 0.2306 - val_acc: 0.9445\n",
      "Epoch 11/50\n",
      "34/34 [==============================] - 111s 3s/step - loss: 0.0641 - acc: 0.9770 - val_loss: 0.1447 - val_acc: 0.9679\n",
      "Epoch 12/50\n",
      "34/34 [==============================] - 106s 3s/step - loss: 0.0956 - acc: 0.9747 - val_loss: 0.0661 - val_acc: 0.9839\n",
      "Epoch 13/50\n",
      "34/34 [==============================] - 110s 3s/step - loss: 0.0446 - acc: 0.9857 - val_loss: 0.1400 - val_acc: 0.9708\n",
      "Epoch 14/50\n",
      "34/34 [==============================] - 110s 3s/step - loss: 0.0445 - acc: 0.9844 - val_loss: 0.0339 - val_acc: 0.9876\n",
      "Epoch 15/50\n",
      "34/34 [==============================] - 109s 3s/step - loss: 0.0575 - acc: 0.9788 - val_loss: 0.0547 - val_acc: 0.9774\n",
      "Epoch 16/50\n",
      "34/34 [==============================] - 113s 3s/step - loss: 0.0552 - acc: 0.9847 - val_loss: 0.2295 - val_acc: 0.9438\n",
      "Epoch 17/50\n",
      "34/34 [==============================] - 110s 3s/step - loss: 0.1148 - acc: 0.9655 - val_loss: 0.3381 - val_acc: 0.8854\n",
      "Epoch 18/50\n",
      "34/34 [==============================] - 108s 3s/step - loss: 0.1045 - acc: 0.9631 - val_loss: 0.3319 - val_acc: 0.9423\n",
      "Epoch 19/50\n",
      "34/34 [==============================] - 110s 3s/step - loss: 0.0666 - acc: 0.9776 - val_loss: 0.3008 - val_acc: 0.9401\n",
      "Epoch 20/50\n",
      "34/34 [==============================] - 104s 3s/step - loss: 0.0474 - acc: 0.9839 - val_loss: 0.0512 - val_acc: 0.9832\n",
      "Epoch 21/50\n",
      "34/34 [==============================] - 103s 3s/step - loss: 0.1014 - acc: 0.9725 - val_loss: 0.1667 - val_acc: 0.9482\n",
      "Epoch 22/50\n",
      "34/34 [==============================] - 107s 3s/step - loss: 0.0559 - acc: 0.9803 - val_loss: 0.0995 - val_acc: 0.9701\n",
      "Epoch 23/50\n",
      "34/34 [==============================] - 104s 3s/step - loss: 0.0832 - acc: 0.9748 - val_loss: 0.0992 - val_acc: 0.9635\n",
      "Epoch 24/50\n",
      "34/34 [==============================] - 104s 3s/step - loss: 0.0396 - acc: 0.9866 - val_loss: 0.0609 - val_acc: 0.9803\n",
      "Epoch 25/50\n",
      "34/34 [==============================] - 103s 3s/step - loss: 0.0430 - acc: 0.9858 - val_loss: 0.1967 - val_acc: 0.9569\n",
      "Epoch 26/50\n",
      "34/34 [==============================] - 103s 3s/step - loss: 0.0438 - acc: 0.9853 - val_loss: 0.2292 - val_acc: 0.9533\n",
      "Epoch 27/50\n",
      "34/34 [==============================] - 102s 3s/step - loss: 0.0427 - acc: 0.9851 - val_loss: 0.1701 - val_acc: 0.9613\n",
      "Epoch 28/50\n",
      "34/34 [==============================] - 105s 3s/step - loss: 0.0302 - acc: 0.9901 - val_loss: 0.0378 - val_acc: 0.9869\n",
      "Epoch 29/50\n",
      "34/34 [==============================] - 104s 3s/step - loss: 0.0675 - acc: 0.9818 - val_loss: 0.1140 - val_acc: 0.9606\n",
      "Epoch 30/50\n",
      "34/34 [==============================] - 104s 3s/step - loss: 0.0606 - acc: 0.9822 - val_loss: 0.0605 - val_acc: 0.9803\n",
      "Epoch 31/50\n",
      "34/34 [==============================] - 102s 3s/step - loss: 0.0511 - acc: 0.9858 - val_loss: 0.0963 - val_acc: 0.9723\n",
      "Epoch 32/50\n",
      "34/34 [==============================] - 106s 3s/step - loss: 0.0596 - acc: 0.9813 - val_loss: 0.1364 - val_acc: 0.9635\n",
      "Epoch 33/50\n",
      "34/34 [==============================] - 103s 3s/step - loss: 0.1100 - acc: 0.9592 - val_loss: 0.8370 - val_acc: 0.8307\n",
      "Epoch 34/50\n",
      "34/34 [==============================] - 104s 3s/step - loss: 0.0889 - acc: 0.9750 - val_loss: 0.0745 - val_acc: 0.9766\n",
      "Epoch 35/50\n",
      "34/34 [==============================] - 104s 3s/step - loss: 0.0846 - acc: 0.9719 - val_loss: 0.2555 - val_acc: 0.9482\n",
      "Epoch 36/50\n",
      "34/34 [==============================] - 103s 3s/step - loss: 0.0609 - acc: 0.9801 - val_loss: 0.2159 - val_acc: 0.9460\n",
      "Epoch 37/50\n",
      "34/34 [==============================] - 103s 3s/step - loss: 0.0553 - acc: 0.9822 - val_loss: 0.1944 - val_acc: 0.9569\n",
      "Epoch 38/50\n",
      "34/34 [==============================] - 104s 3s/step - loss: 0.0573 - acc: 0.9838 - val_loss: 0.2129 - val_acc: 0.9445\n",
      "Epoch 39/50\n",
      "34/34 [==============================] - 104s 3s/step - loss: 0.0489 - acc: 0.9816 - val_loss: 0.0290 - val_acc: 0.9883\n",
      "Epoch 40/50\n",
      "34/34 [==============================] - 104s 3s/step - loss: 0.0787 - acc: 0.9745 - val_loss: 0.1176 - val_acc: 0.9723\n",
      "Epoch 41/50\n",
      "34/34 [==============================] - 103s 3s/step - loss: 0.0494 - acc: 0.9783 - val_loss: 0.0510 - val_acc: 0.9788\n",
      "Epoch 42/50\n",
      "34/34 [==============================] - 105s 3s/step - loss: 0.0462 - acc: 0.9821 - val_loss: 0.2130 - val_acc: 0.9496\n",
      "Epoch 43/50\n",
      "34/34 [==============================] - 105s 3s/step - loss: 0.0495 - acc: 0.9849 - val_loss: 0.1346 - val_acc: 0.9599\n",
      "Epoch 44/50\n",
      "34/34 [==============================] - 105s 3s/step - loss: 0.0354 - acc: 0.9880 - val_loss: 0.0419 - val_acc: 0.9839\n",
      "Epoch 45/50\n",
      "34/34 [==============================] - 104s 3s/step - loss: 0.0768 - acc: 0.9787 - val_loss: 0.2222 - val_acc: 0.9445\n",
      "Epoch 46/50\n",
      "34/34 [==============================] - 104s 3s/step - loss: 0.0480 - acc: 0.9836 - val_loss: 0.2337 - val_acc: 0.9285\n",
      "Epoch 47/50\n",
      "34/34 [==============================] - 112s 3s/step - loss: 0.0347 - acc: 0.9871 - val_loss: 0.0584 - val_acc: 0.9766\n",
      "Epoch 48/50\n",
      "34/34 [==============================] - 102s 3s/step - loss: 0.0724 - acc: 0.9798 - val_loss: 0.0377 - val_acc: 0.9883\n",
      "Epoch 49/50\n",
      "34/34 [==============================] - 111s 3s/step - loss: 0.0378 - acc: 0.9873 - val_loss: 0.0565 - val_acc: 0.9861\n",
      "Epoch 50/50\n",
      "34/34 [==============================] - 106s 3s/step - loss: 0.0280 - acc: 0.9901 - val_loss: 0.0673 - val_acc: 0.9803\n"
     ]
    }
   ],
   "source": [
    "# compile the model using binary cross-entropy rather than\n",
    "# categorical cross-entropy -- this may seem counterintuitive for\n",
    "# multi-label classification, but keep in mind that the goal here\n",
    "# is to treat each output label as an independent Bernoulli\n",
    "# distribution\n",
    "model.compile(loss=\"binary_crossentropy\", optimizer=opt,\n",
    "\tmetrics=[\"accuracy\"])\n",
    " \n",
    "# train the network\n",
    "print(\"[INFO] training network...\")\n",
    "H = model.fit_generator(\n",
    "\taug.flow(trainX, trainY, batch_size=BS),\n",
    "\tvalidation_data=(testX, testY),\n",
    "\tsteps_per_epoch=len(trainX) // BS,\n",
    "\tepochs=EPOCHS, verbose=1)"
   ]
  },
  {
   "cell_type": "code",
   "execution_count": 15,
   "metadata": {},
   "outputs": [
    {
     "data": {
      "image/png": "[encoded data removed]",
      "text/plain": [
       "<matplotlib.figure.Figure at 0xe89a9e3198>"
      ]
     },
     "metadata": {},
     "output_type": "display_data"
    }
   ],
   "source": [
    "%matplotlib inline\n",
    "# plot the training loss and accuracy\n",
    "plt.style.use(\"ggplot\")\n",
    "plt.figure()\n",
    "N = EPOCHS\n",
    "plt.plot(np.arange(0, N), H.history[\"loss\"], label=\"train_loss\")\n",
    "plt.plot(np.arange(0, N), H.history[\"val_loss\"], label=\"val_loss\")\n",
    "plt.plot(np.arange(0, N), H.history[\"acc\"], label=\"train_acc\")\n",
    "plt.plot(np.arange(0, N), H.history[\"val_acc\"], label=\"val_acc\")\n",
    "plt.title(\"Training Loss and Accuracy\")\n",
    "plt.xlabel(\"Epoch #\")\n",
    "plt.ylabel(\"Loss/Accuracy\")\n",
    "plt.legend(loc=\"upper left\")\n",
    "plt.show()"
   ]
  },
  {
   "cell_type": "code",
   "execution_count": 16,
   "metadata": {
    "collapsed": true,
    "jupyter": {
     "outputs_hidden": true
    }
   },
   "outputs": [],
   "source": [
    "# save the model to disk\n",
    "model.save(\"ml_fashion.h5\")\n",
    " \n",
    "# save the multi-label binarizer to disk\n",
    "f = open('ml_fashion.pickle', \"wb\")\n",
    "f.write(pickle.dumps(mlb))\n",
    "f.close()"
   ]
  },
  {
   "cell_type": "markdown",
   "metadata": {},
   "source": [
    "<div class=\"alert alert-block alert-info\">\n",
    "<div style=\"direction:rtl;text-align:right;font-family:B Lotus, B Nazanin, Tahoma\"> دانشگاه تربیت دبیر شهید رجایی<br>مباحث ویژه 2 - یادگیری عمیق پیشرفته<br>علیرضا اخوان پور<br>97-98<br>\n",
    "</div>\n",
    "<a href=\"https://www.srttu.edu/\">SRTTU.edu</a> - <a href=\"http://class.vision\">Class.Vision</a> - <a href=\"http://AkhavanPour.ir\">AkhavanPour.ir</a>\n",
    "</div>"
   ]
  },
  {
   "cell_type": "code",
   "execution_count": null,
   "metadata": {
    "collapsed": true,
    "jupyter": {
     "outputs_hidden": true
    }
   },
   "outputs": [],
   "source": []
  }
 ],
 "metadata": {
  "anaconda-cloud": {},
  "kernelspec": {
   "display_name": "Python 3",
   "language": "python",
   "name": "python3"
  },
  "language_info": {
   "codemirror_mode": {
    "name": "ipython",
    "version": 3
   },
   "file_extension": ".py",
   "mimetype": "text/x-python",
   "name": "python",
   "nbconvert_exporter": "python",
   "pygments_lexer": "ipython3",
   "version": "3.7.4"
  }
 },
 "nbformat": 4,
 "nbformat_minor": 4
}
